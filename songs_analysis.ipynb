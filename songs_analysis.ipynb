{
 "cells": [
  {
   "cell_type": "markdown",
   "metadata": {},
   "source": [
    "# A simple notebook which analyses the Songs we have been listening on Alexa since January 2019 to October 2019"
   ]
  },
  {
   "cell_type": "markdown",
   "metadata": {},
   "source": [
    "#Load the csv "
   ]
  },
  {
   "cell_type": "code",
   "execution_count": null,
   "metadata": {},
   "outputs": [],
   "source": [
    "%%javascript\n",
    "IPython.OutputArea.prototype._should_scroll = function(lines) {\n",
    "    return false;\n",
    "}"
   ]
  },
  {
   "cell_type": "code",
   "execution_count": null,
   "metadata": {},
   "outputs": [],
   "source": [
    "import matplotlib.pyplot as plt\n",
    "import csv\n",
    "import pandas as pd \n",
    "from datetime import datetime\n",
    "import matplotlib.dates as mdates\n",
    "from matplotlib.dates import DateFormatter\n",
    "import calendar\n",
    "from pandas.plotting import register_matplotlib_converters\n",
    "import glob\n",
    "from datetime import date\n",
    "from datetime import timedelta\n",
    "\n",
    "\n",
    "register_matplotlib_converters()\n",
    "\n",
    "path = r'/home/pi/songs_analysis' # use your path\n",
    "all_files = glob.glob(path + \"/*.csv\")\n",
    "\n",
    "li = []\n",
    "\n",
    "for filename in all_files:\n",
    "    df = pd.read_csv(filename, index_col=None,parse_dates=[0],usecols=[0,1,2,3],names=['date','artist','title','album'],skip_blank_lines=True,)\n",
    "    li.append(df)\n",
    "\n",
    "data = pd.concat(li, axis=0, ignore_index=True)\n",
    "#data.head()\n",
    "\n",
    "\n",
    "\n",
    "#data = pd.read_csv(\"consolidated.csv\",nrows=5285,parse_dates=[0],usecols=[0,1,2,3],names=['date','artist','title','album'],skip_blank_lines=True,)\n",
    "#data = pd.read_csv(\"face_data-jul18.csv\",parse_dates=[1],index_col=[1])\n",
    "#data.dropna(how=\"all\", inplace=True) \n",
    "# Add day of the week \n",
    "data[\"day_of_the_week\"] = data[\"date\"].dt.day_name()\n",
    "data[\"month_of_the_year\"] = data[\"date\"].dt.month_name()\n",
    "data[\"week_of_the_year\"] = data[\"date\"].dt.week\n",
    "data[\"day_of_the_week_no\"] = data[\"date\"].dt.day\n",
    "data[\"month_of_the_year_no\"] = data[\"date\"].dt.month\n",
    "data[\"hour_of_the_day\"] = data[\"date\"].dt.hour\n",
    "\n",
    "\n",
    "\n",
    "\n",
    "\n",
    "# Filter on dates if needed\n",
    "new_date=pd.datetime.now()\n",
    "#new_date=pd.to_datetime('01-August-2019')\n",
    "older_date = new_date - timedelta(2)\n",
    "mask = (data['date'] > older_date) & (data['date'] <= new_date)\n",
    "#data=data.loc[mask]\n",
    "\n",
    "\n",
    "# Removing the songs which are played daily.\n",
    "data = data[data.title != \"4AM Hanuman Chalisa\"]\n",
    "data = data[data.title != \"Gayatri Mantra\"]\n",
    "\n",
    "\n",
    "# Preview the first 5 lines of the loaded data \n",
    "#data.head()"
   ]
  },
  {
   "cell_type": "code",
   "execution_count": null,
   "metadata": {},
   "outputs": [],
   "source": [
    "# Total no of Songs Played till date\n",
    "print (\"Total No of Songs Played: \"+str(data['title'].count()))\n",
    "\n",
    "# Total no of Unique songe\n",
    "print (\"Total No of Unique Songs Played: \"+str(data['title'].nunique()))\n",
    "print (\"Total No of Unique Albums Played: \"+str(data['album'].nunique()))\n",
    "print (\"Total No of Unique Artists Played: \"+str(data['artist'].nunique()))"
   ]
  },
  {
   "cell_type": "code",
   "execution_count": null,
   "metadata": {},
   "outputs": [],
   "source": [
    "# Build the word Cloud for the Artists\n",
    "\n",
    "#from wordcloud import WordCloud, STOPWORDS\n",
    "#import matplotlib.pyplot as plt\n",
    "#text = data.artist.tolist()\n",
    "#wordcloud = WordCloud(\n",
    "#    width = 3000,\n",
    "#    height = 2000,\n",
    "#    background_color = 'black',\n",
    "#    stopwords = STOPWORDS).generate(str(text))\n",
    "#fig = plt.figure(\n",
    "#    figsize = (40, 30),\n",
    "#    facecolor = 'k',\n",
    "#    edgecolor = 'k')\n",
    "#plt.imshow(wordcloud, interpolation = 'bilinear')\n",
    "#plt.axis('off')\n",
    "#plt.tight_layout(pad=0)\n",
    "#plt.show()"
   ]
  },
  {
   "cell_type": "code",
   "execution_count": null,
   "metadata": {},
   "outputs": [],
   "source": [
    "# Build the word Cloud for the Title\n",
    "\n",
    "#from wordcloud import WordCloud, STOPWORDS\n",
    "#import matplotlib.pyplot as plt\n",
    "#text = data.title.tolist()\n",
    "#wordcloud = WordCloud(\n",
    "#    width = 3000,\n",
    "#    height = 2000,\n",
    "#    background_color = 'black',\n",
    "#    stopwords = STOPWORDS).generate(str(text))\n",
    "#fig = plt.figure(\n",
    "#    figsize = (40, 30),\n",
    "#    facecolor = 'k',\n",
    "#    edgecolor = 'k')\n",
    "#plt.imshow(wordcloud, interpolation = 'bilinear')\n",
    "#plt.axis('off')\n",
    "#plt.tight_layout(pad=0)\n",
    "#plt.show()"
   ]
  },
  {
   "cell_type": "code",
   "execution_count": null,
   "metadata": {},
   "outputs": [],
   "source": [
    "# Build the word Cloud for the Album\n",
    "\n",
    "#from wordcloud import WordCloud, STOPWORDS\n",
    "#import matplotlib.pyplot as plt\n",
    "#text = data.album.tolist()\n",
    "#wordcloud = WordCloud(\n",
    "#    width = 3000,\n",
    "#    height = 2000,\n",
    "#    background_color = 'black',\n",
    "#    stopwords = STOPWORDS).generate(str(text))\n",
    "#fig = plt.figure(\n",
    "#    figsize = (40, 30),\n",
    "#    facecolor = 'k',\n",
    "#    edgecolor = 'k')\n",
    "#plt.imshow(wordcloud, interpolation = 'bilinear')\n",
    "#plt.axis('off')\n",
    "#plt.tight_layout(pad=0)\n",
    "#plt.show()"
   ]
  },
  {
   "cell_type": "code",
   "execution_count": null,
   "metadata": {},
   "outputs": [],
   "source": [
    "# Print the usage of songs on a daily time series\n",
    "data.sort_values(by=\"date\").groupby(data[\"date\"].dt.date)['title'].count().plot(title=\"No of Songs per Day of the Week\",figsize=(20,10))\n"
   ]
  },
  {
   "cell_type": "code",
   "execution_count": null,
   "metadata": {},
   "outputs": [],
   "source": [
    "# Print the usage of songs on a Weekly  time series\n",
    "data.sort_values(by=\"date\").groupby(data[\"week_of_the_year\"])['title'].count().plot(title=\"No of Songs on a Weekly Basis\",figsize=(20,10))\n"
   ]
  },
  {
   "cell_type": "code",
   "execution_count": null,
   "metadata": {
    "scrolled": true
   },
   "outputs": [],
   "source": [
    "# Print the usage of songs on a Monthly  time series\n",
    "#data.sort_values(by=\"date\").groupby(data[\"month_of_the_year\"])['title'].count().plot(title=\"No of Songs on a Monthly Basis\",figsize=(20,10))\n",
    "data.sort_values(by=\"date\").groupby(data[\"month_of_the_year\"])['title'].count()"
   ]
  },
  {
   "cell_type": "code",
   "execution_count": null,
   "metadata": {},
   "outputs": [],
   "source": [
    "# Number of songs played in day per week\n",
    "#print (data.groupby([data['date'].dt.hour, 'day_of_the_week'])['title'].count().unstack())\n",
    "\n",
    "data.groupby([data['date'].dt.hour,'day_of_the_week'])['title'].count().unstack().plot(figsize=(20,10))\n"
   ]
  },
  {
   "cell_type": "code",
   "execution_count": null,
   "metadata": {},
   "outputs": [],
   "source": [
    "#data.groupby(data[\"date\"].dt.month_name())['title'].count().sort_values(ascending=False).plot(kind=\"bar\",title=\"No of Songs per Day of the Week\",figsize=(20,10))\n",
    "data.groupby(data[\"date\"].dt.month_name())['title'].count().sort_values(ascending=False)"
   ]
  },
  {
   "cell_type": "markdown",
   "metadata": {},
   "source": [
    "# Total no of songs in day of the week"
   ]
  },
  {
   "cell_type": "code",
   "execution_count": null,
   "metadata": {},
   "outputs": [],
   "source": [
    "#data.groupby(data[\"date\"].dt.day_name())['title'].count().sort_values(ascending=False).plot(kind=\"bar\",title=\"No of Songs per Day of the Week\",figsize=(20,10))\n",
    "\n",
    "data.groupby(data[\"date\"].dt.day_name())['title'].count().sort_values(ascending=False)"
   ]
  },
  {
   "cell_type": "markdown",
   "metadata": {},
   "source": [
    "# Total no of songs in hour of day "
   ]
  },
  {
   "cell_type": "code",
   "execution_count": null,
   "metadata": {
    "scrolled": true
   },
   "outputs": [],
   "source": [
    "#data.groupby(data[\"date\"].dt.hour)['title'].count().sort_values(ascending=False).plot(kind=\"bar\",title=\"No of Songs per hour of the day \",figsize=(20,10))\n",
    "data.groupby(data[\"date\"].dt.hour)['title'].count().sort_values(ascending=False)"
   ]
  },
  {
   "cell_type": "markdown",
   "metadata": {},
   "source": [
    "# Top 10 Songs IN a day"
   ]
  },
  {
   "cell_type": "code",
   "execution_count": null,
   "metadata": {},
   "outputs": [],
   "source": [
    "# Top 10 Songs at a monthly level\n",
    "grouped = data.groupby('day_of_the_week')\n",
    "for name,group in grouped:\n",
    "    plt.figure()\n",
    "    #group['title'].value_counts()[:10].plot(kind=\"bar\",title=\"Top 10 popular Songs of \"+name,figsize=(20,10))\n",
    "    print (\"\\n Day of the Week ---- \"+name)\n",
    "    print (group['title'].value_counts()[:10])\n",
    "\n",
    "plt.show()\n"
   ]
  },
  {
   "cell_type": "markdown",
   "metadata": {},
   "source": [
    "# Top 10 Songs of All Time"
   ]
  },
  {
   "cell_type": "code",
   "execution_count": null,
   "metadata": {},
   "outputs": [],
   "source": [
    "# Print Top 20 Titles songs\n",
    "#pd.Series(data['title']).value_counts().plot('bar')\n",
    "#data['title'].value_counts()[:10].plot(kind=\"bar\",title=\"Top 20 popular Songs of All Time\",figsize=(20,10))\n",
    "\n",
    "data['title'].value_counts()[:10]"
   ]
  },
  {
   "cell_type": "markdown",
   "metadata": {},
   "source": [
    "# Top 10 Songs per Month"
   ]
  },
  {
   "cell_type": "code",
   "execution_count": null,
   "metadata": {
    "scrolled": false
   },
   "outputs": [],
   "source": [
    "# Top 10 Songs at a monthly level\n",
    "grouped = data.groupby('month_of_the_year')\n",
    "for name,group in grouped:\n",
    "    plt.figure()\n",
    "    #group['title'].value_counts()[:10].plot(kind=\"bar\",title=\"Top 10 popular Songs of \"+name,figsize=(20,10))\n",
    "    print (\"---\"+name+\"---\")\n",
    "    print (group['title'].value_counts()[:10])\n",
    "    print (\"\\n\")\n",
    "\n",
    "plt.show()\n",
    "\n"
   ]
  },
  {
   "cell_type": "markdown",
   "metadata": {},
   "source": [
    "# Top 20 Popular Artists"
   ]
  },
  {
   "cell_type": "code",
   "execution_count": null,
   "metadata": {},
   "outputs": [],
   "source": [
    "# data['artist'].value_counts()[:20].plot(kind=\"bar\",title=\"Top 20 popular Artists\",figsize=(20,10))\n",
    "data['artist'].value_counts()[:20]\n",
    "\n"
   ]
  },
  {
   "cell_type": "code",
   "execution_count": null,
   "metadata": {},
   "outputs": [],
   "source": []
  },
  {
   "cell_type": "markdown",
   "metadata": {},
   "source": [
    "\n",
    "\n",
    "# Top 20 Popular Albums\n"
   ]
  },
  {
   "cell_type": "code",
   "execution_count": null,
   "metadata": {},
   "outputs": [],
   "source": [
    "#data['album'].value_counts()[:20].plot(kind=\"bar\",title=\"Top 20 popular Albums\",figsize=(20,10))\n",
    "\n",
    "data['album'].value_counts()[:20]"
   ]
  },
  {
   "cell_type": "markdown",
   "metadata": {},
   "source": [
    "# Most popular dates for Songs"
   ]
  },
  {
   "cell_type": "code",
   "execution_count": null,
   "metadata": {},
   "outputs": [],
   "source": [
    "#data['date'].dt.date.value_counts()[:20].plot(kind=\"bar\",title=\"Top 20 popular Dates\",figsize=(20,10))\n",
    "data['date'].dt.date.value_counts()[:20]\n"
   ]
  },
  {
   "cell_type": "markdown",
   "metadata": {},
   "source": [
    "# Top 10 Songs for last 4 weeks"
   ]
  },
  {
   "cell_type": "code",
   "execution_count": null,
   "metadata": {},
   "outputs": [],
   "source": [
    "#grouped = data.groupby(['month_of_the_year','title'])['title'].sum()\n",
    "#grouped['month_of_the_year'].dt.date.value_counts()[:20].plot(kind=\"bar\",title=\"Top 20 popular Dates\",figsize=(20,10))\n",
    "# Top 10 Songs at a weekly level for last 4 weeks\n",
    "grouped = data.groupby('week_of_the_year')\n",
    "size = grouped.ngroups\n",
    "ind = 0 \n",
    "for name,group in grouped:\n",
    "    ind = ind + 1\n",
    "    if size -4 < ind :\n",
    "        plt.figure()\n",
    "        #group['title'].value_counts()[:10].plot(kind=\"bar\",title=\"Top 10 popular Songs of Week \"+str(name),figsize=(20,10))\n",
    "        print (\"Week: \"+str(name))\n",
    "        print (group['title'].value_counts()[:10])\n",
    "        print (\"\\n\")\n",
    "plt.show()\n",
    "\n"
   ]
  },
  {
   "cell_type": "markdown",
   "metadata": {},
   "source": [
    "# Top 10 Songs for hour of the day"
   ]
  },
  {
   "cell_type": "code",
   "execution_count": null,
   "metadata": {},
   "outputs": [],
   "source": [
    "# Top 10 Songs at a hourly level\n",
    "grouped = data.groupby('hour_of_the_day')\n",
    "for name,group in grouped:\n",
    "    plt.figure()\n",
    "    #group['title'].value_counts()[:10].plot(kind=\"bar\",title=\"Top 10 popular Songs at Hour: \"+str(name),figsize=(20,10))\n",
    "    print (\"Hour \"+str(name))\n",
    "    print (group['title'].value_counts()[:10])\n",
    "    print (\"\\n\")\n",
    "    \n",
    "plt.show()\n"
   ]
  }
 ],
 "metadata": {
  "hide_input": true,
  "kernelspec": {
   "display_name": "Python 3",
   "language": "python",
   "name": "python3"
  },
  "language_info": {
   "codemirror_mode": {
    "name": "ipython",
    "version": 3
   },
   "file_extension": ".py",
   "mimetype": "text/x-python",
   "name": "python",
   "nbconvert_exporter": "python",
   "pygments_lexer": "ipython3",
   "version": "3.5.3"
  }
 },
 "nbformat": 4,
 "nbformat_minor": 2
}
